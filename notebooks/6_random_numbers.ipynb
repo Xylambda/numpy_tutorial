{
 "cells": [
  {
   "cell_type": "code",
   "execution_count": 1,
   "metadata": {},
   "outputs": [],
   "source": [
    "import numpy as np"
   ]
  },
  {
   "cell_type": "markdown",
   "metadata": {},
   "source": [
    "## 1. Generating random numbers\n",
    "\n",
    "The `numpy.random` module provides functions to generate random numbers in various forms.\n",
    "\n",
    "Uniformly Distributed:"
   ]
  },
  {
   "cell_type": "code",
   "execution_count": 2,
   "metadata": {},
   "outputs": [
    {
     "data": {
      "text/plain": [
       "0.5347324509067745"
      ]
     },
     "execution_count": 2,
     "metadata": {},
     "output_type": "execute_result"
    }
   ],
   "source": [
    "np.random.random()"
   ]
  },
  {
   "cell_type": "markdown",
   "metadata": {},
   "source": [
    "Uniformly distributed integers"
   ]
  },
  {
   "cell_type": "code",
   "execution_count": 3,
   "metadata": {},
   "outputs": [
    {
     "data": {
      "text/plain": [
       "array([12])"
      ]
     },
     "execution_count": 3,
     "metadata": {},
     "output_type": "execute_result"
    }
   ],
   "source": [
    "np.random.randint(low=1, high=20, size=1)"
   ]
  },
  {
   "cell_type": "markdown",
   "metadata": {},
   "source": [
    "## 2. Sampling from sequences\n",
    "\n",
    "We can use the `numpy.random` module to randomly select elements from arrays or other sequences."
   ]
  },
  {
   "cell_type": "markdown",
   "metadata": {},
   "source": [
    "### 2.1. Single random choice"
   ]
  },
  {
   "cell_type": "code",
   "execution_count": 4,
   "metadata": {},
   "outputs": [
    {
     "data": {
      "text/plain": [
       "80"
      ]
     },
     "execution_count": 4,
     "metadata": {},
     "output_type": "execute_result"
    }
   ],
   "source": [
    "array = np.arange(100)\n",
    "choice = np.random.choice(array)\n",
    "choice"
   ]
  },
  {
   "cell_type": "markdown",
   "metadata": {},
   "source": [
    "### 2.2. Random sample"
   ]
  },
  {
   "cell_type": "markdown",
   "metadata": {},
   "source": [
    "With replacement"
   ]
  },
  {
   "cell_type": "code",
   "execution_count": 5,
   "metadata": {},
   "outputs": [
    {
     "data": {
      "text/plain": [
       "array([9, 5, 2, 0, 2])"
      ]
     },
     "execution_count": 5,
     "metadata": {},
     "output_type": "execute_result"
    }
   ],
   "source": [
    "array = np.arange(10)\n",
    "sample = np.random.choice(array, size=5, replace=True)\n",
    "sample"
   ]
  },
  {
   "cell_type": "markdown",
   "metadata": {},
   "source": [
    "Without replacement"
   ]
  },
  {
   "cell_type": "code",
   "execution_count": 6,
   "metadata": {},
   "outputs": [
    {
     "data": {
      "text/plain": [
       "array([2, 0, 5, 3, 9])"
      ]
     },
     "execution_count": 6,
     "metadata": {},
     "output_type": "execute_result"
    }
   ],
   "source": [
    "array = np.arange(10)\n",
    "sample = np.random.choice(array, size=5, replace=False)\n",
    "sample"
   ]
  },
  {
   "cell_type": "markdown",
   "metadata": {},
   "source": [
    "## 3. Distributions\n",
    "\n",
    "NumPy provides access to various probability distributions, useful for simulations and statistical modeling."
   ]
  },
  {
   "cell_type": "code",
   "execution_count": 7,
   "metadata": {},
   "outputs": [],
   "source": [
    "dist_names = ['normal', 'gamma', 'exponential', 'f', 'chisquare', 'beta']"
   ]
  },
  {
   "cell_type": "code",
   "execution_count": 8,
   "metadata": {},
   "outputs": [
    {
     "name": "stdout",
     "output_type": "stream",
     "text": [
      "<built-in method normal of numpy.random.mtrand.RandomState object at 0x70eeac30de40>\n",
      "<built-in method gamma of numpy.random.mtrand.RandomState object at 0x70eeac30de40>\n",
      "<built-in method exponential of numpy.random.mtrand.RandomState object at 0x70eeac30de40>\n",
      "<built-in method f of numpy.random.mtrand.RandomState object at 0x70eeac30de40>\n",
      "<built-in method chisquare of numpy.random.mtrand.RandomState object at 0x70eeac30de40>\n",
      "<built-in method beta of numpy.random.mtrand.RandomState object at 0x70eeac30de40>\n"
     ]
    }
   ],
   "source": [
    "for dist in dist_names:\n",
    "    print(getattr(np.random, dist))"
   ]
  },
  {
   "cell_type": "markdown",
   "metadata": {},
   "source": [
    "Each distribution has its own documentation:"
   ]
  },
  {
   "cell_type": "code",
   "execution_count": 9,
   "metadata": {},
   "outputs": [
    {
     "name": "stdout",
     "output_type": "stream",
     "text": [
      "\n",
      "        beta(a, b, size=None)\n",
      "\n",
      "        Draw samples from a Beta distribution.\n",
      "\n",
      "        The Beta distribution is a special case of the Dirichlet distribution,\n",
      "        and is related to the Gamma distribution.  It has the probability\n",
      "        distribution function\n",
      "\n",
      "        .. math:: f(x; a,b) = \\frac{1}{B(\\alpha, \\beta)} x^{\\alpha - 1}\n",
      "                                                         (1 - x)^{\\beta - 1},\n",
      "\n",
      "        where the normalization, B, is the beta function,\n",
      "\n",
      "        .. math:: B(\\alpha, \\beta) = \\int_0^1 t^{\\alpha - 1}\n",
      "                                     (1 - t)^{\\beta - 1} dt.\n",
      "\n",
      "        It is often seen in Bayesian inference and order statistics.\n",
      "\n",
      "        .. note::\n",
      "            New code should use the `~numpy.random.Generator.beta`\n",
      "            method of a `~numpy.random.Generator` instance instead;\n",
      "            please see the :ref:`random-quick-start`.\n",
      "\n",
      "\n",
      "        Parameters\n",
      "        ----------\n",
      "        a : float or array_like of floats\n",
      "            Alpha, positive (>0).\n",
      "        b : float or array_like of floats\n",
      "            Beta, positive (>0).\n",
      "        size : int or tuple of ints, optional\n",
      "            Output shape.  If the given shape is, e.g., ``(m, n, k)``, then\n",
      "            ``m * n * k`` samples are drawn.  If size is ``None`` (default),\n",
      "            a single value is returned if ``a`` and ``b`` are both scalars.\n",
      "            Otherwise, ``np.broadcast(a, b).size`` samples are drawn.\n",
      "\n",
      "        Returns\n",
      "        -------\n",
      "        out : ndarray or scalar\n",
      "            Drawn samples from the parameterized beta distribution.\n",
      "\n",
      "        See Also\n",
      "        --------\n",
      "        random.Generator.beta: which should be used for new code.\n",
      "        \n"
     ]
    }
   ],
   "source": [
    "print(getattr(np.random, dist).__doc__)"
   ]
  },
  {
   "cell_type": "code",
   "execution_count": 10,
   "metadata": {},
   "outputs": [
    {
     "data": {
      "text/plain": [
       "array([ 0.62409538,  0.32338563, -0.56415303,  0.89673269,  0.42227095,\n",
       "        1.23333401, -0.62334558, -0.38694414,  0.06180902,  0.36871428])"
      ]
     },
     "execution_count": 10,
     "metadata": {},
     "output_type": "execute_result"
    }
   ],
   "source": [
    "np.random.normal(loc=0, scale=1, size=10)"
   ]
  },
  {
   "cell_type": "code",
   "execution_count": 11,
   "metadata": {},
   "outputs": [
    {
     "data": {
      "text/plain": [
       "array([ 3.34143107, -2.00682416, -7.88051768, -6.84625539, -3.95949979,\n",
       "        9.39141989,  7.81959999,  2.63138956,  5.42466541, -9.02911687])"
      ]
     },
     "execution_count": 11,
     "metadata": {},
     "output_type": "execute_result"
    }
   ],
   "source": [
    "np.random.uniform(low=-10, high=10, size=10)"
   ]
  },
  {
   "cell_type": "markdown",
   "metadata": {},
   "source": [
    "## 4. Shuffling and Permutations\n",
    "\n",
    "You can shuffle data or generate random permutations using the `shuffle` and `permutation` methods."
   ]
  },
  {
   "cell_type": "markdown",
   "metadata": {},
   "source": [
    "### 4.1. Shuffle (In-place)"
   ]
  },
  {
   "cell_type": "code",
   "execution_count": 12,
   "metadata": {},
   "outputs": [
    {
     "data": {
      "text/plain": [
       "array([3, 5, 4, 1, 2])"
      ]
     },
     "execution_count": 12,
     "metadata": {},
     "output_type": "execute_result"
    }
   ],
   "source": [
    "array = np.array([1, 2, 3, 4, 5])\n",
    "\n",
    "np.random.shuffle(array)\n",
    "array"
   ]
  },
  {
   "cell_type": "markdown",
   "metadata": {},
   "source": [
    "### 4.2. Permutation (Creates a New Array)"
   ]
  },
  {
   "cell_type": "code",
   "execution_count": 13,
   "metadata": {},
   "outputs": [
    {
     "data": {
      "text/plain": [
       "array([5, 3, 1, 2, 4])"
      ]
     },
     "execution_count": 13,
     "metadata": {},
     "output_type": "execute_result"
    }
   ],
   "source": [
    "array = np.array([1, 2, 3, 4, 5])\n",
    "\n",
    "perm = np.random.permutation(array)\n",
    "perm"
   ]
  },
  {
   "cell_type": "code",
   "execution_count": 14,
   "metadata": {},
   "outputs": [
    {
     "data": {
      "text/plain": [
       "array([1, 2, 3, 4, 5])"
      ]
     },
     "execution_count": 14,
     "metadata": {},
     "output_type": "execute_result"
    }
   ],
   "source": [
    "array"
   ]
  },
  {
   "cell_type": "markdown",
   "metadata": {},
   "source": [
    "## 5. Random seeds\n",
    "\n",
    "To produce reproducible results, you can seed the random number generator using `np.random.seed`."
   ]
  },
  {
   "cell_type": "code",
   "execution_count": 15,
   "metadata": {},
   "outputs": [
    {
     "name": "stdout",
     "output_type": "stream",
     "text": [
      "[ 0.37699854  1.70597055  1.51574901 -0.83910552 -0.60505282]\n",
      "[-0.62199808 -0.04983061 -0.38302372  0.18882397  0.03276747]\n",
      "[-0.35109276 -0.90136367  1.85753395 -0.00726418 -0.58436322]\n"
     ]
    }
   ],
   "source": [
    "for _ in range(3):\n",
    "    arr = np.random.normal(loc=0, scale=1, size=5)\n",
    "    print(arr)"
   ]
  },
  {
   "cell_type": "markdown",
   "metadata": {},
   "source": [
    "The [new standard](https://numpy.org/neps/nep-0019-rng-policy.html) is to instantiate a generator object with a seed and pass it around"
   ]
  },
  {
   "cell_type": "code",
   "execution_count": 20,
   "metadata": {},
   "outputs": [
    {
     "name": "stdout",
     "output_type": "stream",
     "text": [
      "[-0.0688612  -0.68696559 -0.7884868   1.07600685 -0.01052417]\n",
      "[-0.0688612  -0.68696559 -0.7884868   1.07600685 -0.01052417]\n",
      "[-0.0688612  -0.68696559 -0.7884868   1.07600685 -0.01052417]\n"
     ]
    }
   ],
   "source": [
    "for _ in range(3):\n",
    "    rng = np.random.default_rng(2021)\n",
    "    arr = rng.normal(loc=0, scale=1, size=5)\n",
    "    print(arr)"
   ]
  },
  {
   "cell_type": "markdown",
   "metadata": {},
   "source": [
    "But be careful, a single instance will generate different random numbers (this is expected and intended). This ensures high-quality randomness for stochastic processes."
   ]
  },
  {
   "cell_type": "code",
   "execution_count": 21,
   "metadata": {},
   "outputs": [
    {
     "name": "stdout",
     "output_type": "stream",
     "text": [
      "[-0.0688612  -0.68696559 -0.7884868   1.07600685 -0.01052417]\n",
      "[-0.45565263 -0.03866147 -2.62149639 -0.82323987 -1.54276562]\n",
      "[ 0.45451241 -0.39209841  0.95682255  0.38092829 -1.22445644]\n"
     ]
    }
   ],
   "source": [
    "rng = np.random.default_rng(2021)\n",
    "\n",
    "for _ in range(3):\n",
    "    arr = rng.normal(loc=0, scale=1, size=5)\n",
    "    print(arr)"
   ]
  },
  {
   "cell_type": "markdown",
   "metadata": {},
   "source": [
    "If your goal is to use the same generator across iterations and produce identical outputs, resetting the seed is necessary."
   ]
  },
  {
   "cell_type": "markdown",
   "metadata": {},
   "source": [
    "## 6. Examples\n",
    "### 6.1. Coin toss"
   ]
  },
  {
   "cell_type": "code",
   "execution_count": 27,
   "metadata": {},
   "outputs": [
    {
     "data": {
      "text/plain": [
       "array([1, 1, 1, 0, 1, 0, 0, 1, 0, 1])"
      ]
     },
     "execution_count": 27,
     "metadata": {},
     "output_type": "execute_result"
    }
   ],
   "source": [
    "# Simulate 10 coin tosses (0=Heads, 1=Tails)\n",
    "coin_toss = np.random.choice([0, 1], size=10)\n",
    "coin_toss"
   ]
  },
  {
   "cell_type": "markdown",
   "metadata": {},
   "source": [
    "### 6.2. Estimating PI"
   ]
  },
  {
   "cell_type": "code",
   "execution_count": 25,
   "metadata": {},
   "outputs": [],
   "source": [
    "def estimate_pi(n_points):\n",
    "    x = np.random.uniform(-1, 1, size=n_points)\n",
    "    y = np.random.uniform(-1, 1, size=n_points)\n",
    "\n",
    "    # Points inside the unit circle\n",
    "    inside_circle = (x**2 + y**2) <= 1\n",
    "    pi_estimate = (inside_circle.sum() / n_points) * 4\n",
    "    return pi_estimate"
   ]
  },
  {
   "cell_type": "code",
   "execution_count": 26,
   "metadata": {},
   "outputs": [
    {
     "name": "stdout",
     "output_type": "stream",
     "text": [
      "3.2\n",
      "3.1224\n",
      "3.15056\n"
     ]
    }
   ],
   "source": [
    "for n in [10, 10_000, 100_000]:\n",
    "    print(estimate_pi(n_points=n))"
   ]
  },
  {
   "cell_type": "markdown",
   "metadata": {},
   "source": [
    "---"
   ]
  }
 ],
 "metadata": {
  "kernelspec": {
   "display_name": "data",
   "language": "python",
   "name": "python3"
  },
  "language_info": {
   "codemirror_mode": {
    "name": "ipython",
    "version": 3
   },
   "file_extension": ".py",
   "mimetype": "text/x-python",
   "name": "python",
   "nbconvert_exporter": "python",
   "pygments_lexer": "ipython3",
   "version": "3.11.9"
  }
 },
 "nbformat": 4,
 "nbformat_minor": 2
}
