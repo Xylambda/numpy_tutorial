{
 "cells": [
  {
   "cell_type": "code",
   "execution_count": 2,
   "metadata": {},
   "outputs": [],
   "source": [
    "import numpy as np"
   ]
  },
  {
   "cell_type": "markdown",
   "metadata": {},
   "source": [
    "Create arrays"
   ]
  },
  {
   "cell_type": "code",
   "execution_count": 3,
   "metadata": {},
   "outputs": [],
   "source": [
    "array_1d = np.arange(10)\n",
    "array_2d = np.arange(20).reshape(5, 4)"
   ]
  },
  {
   "cell_type": "code",
   "execution_count": 4,
   "metadata": {},
   "outputs": [
    {
     "data": {
      "text/plain": [
       "array([0, 1, 2, 3, 4, 5, 6, 7, 8, 9])"
      ]
     },
     "execution_count": 4,
     "metadata": {},
     "output_type": "execute_result"
    }
   ],
   "source": [
    "array_1d"
   ]
  },
  {
   "cell_type": "code",
   "execution_count": 5,
   "metadata": {},
   "outputs": [
    {
     "data": {
      "text/plain": [
       "array([[ 0,  1,  2,  3],\n",
       "       [ 4,  5,  6,  7],\n",
       "       [ 8,  9, 10, 11],\n",
       "       [12, 13, 14, 15],\n",
       "       [16, 17, 18, 19]])"
      ]
     },
     "execution_count": 5,
     "metadata": {},
     "output_type": "execute_result"
    }
   ],
   "source": [
    "array_2d"
   ]
  },
  {
   "cell_type": "markdown",
   "metadata": {},
   "source": [
    "## 1. Indexing\n",
    "\n",
    "You can index NumPy arrays in the same ways you can slice Python lists."
   ]
  },
  {
   "cell_type": "code",
   "execution_count": 7,
   "metadata": {},
   "outputs": [
    {
     "data": {
      "text/plain": [
       "0"
      ]
     },
     "execution_count": 7,
     "metadata": {},
     "output_type": "execute_result"
    }
   ],
   "source": [
    "array_1d[0]"
   ]
  },
  {
   "cell_type": "markdown",
   "metadata": {},
   "source": [
    "Negative indexes work the same in NumPy arrays"
   ]
  },
  {
   "cell_type": "code",
   "execution_count": 9,
   "metadata": {},
   "outputs": [
    {
     "data": {
      "text/plain": [
       "9"
      ]
     },
     "execution_count": 9,
     "metadata": {},
     "output_type": "execute_result"
    }
   ],
   "source": [
    "array_1d[-1]"
   ]
  },
  {
   "cell_type": "code",
   "execution_count": 10,
   "metadata": {},
   "outputs": [
    {
     "data": {
      "text/plain": [
       "9"
      ]
     },
     "execution_count": 10,
     "metadata": {},
     "output_type": "execute_result"
    }
   ],
   "source": [
    "array_1d.tolist()[-1]"
   ]
  },
  {
   "cell_type": "markdown",
   "metadata": {},
   "source": [
    "For 2d arrays you have to take into account that you have to use a different index for each axis. Lets select the element 0 from the first axis and the element 2 from the second axis."
   ]
  },
  {
   "cell_type": "code",
   "execution_count": 13,
   "metadata": {},
   "outputs": [],
   "source": [
    "i, j = 0, 2"
   ]
  },
  {
   "cell_type": "markdown",
   "metadata": {},
   "source": [
    "We can pass a tuple of indices such that"
   ]
  },
  {
   "cell_type": "code",
   "execution_count": 14,
   "metadata": {},
   "outputs": [
    {
     "data": {
      "text/plain": [
       "2"
      ]
     },
     "execution_count": 14,
     "metadata": {},
     "output_type": "execute_result"
    }
   ],
   "source": [
    "array_2d[i, j]"
   ]
  },
  {
   "cell_type": "markdown",
   "metadata": {},
   "source": [
    "or we can use a pair of brackets for each axis"
   ]
  },
  {
   "cell_type": "code",
   "execution_count": 16,
   "metadata": {},
   "outputs": [
    {
     "data": {
      "text/plain": [
       "2"
      ]
     },
     "execution_count": 16,
     "metadata": {},
     "output_type": "execute_result"
    }
   ],
   "source": [
    "array_2d[i][j]"
   ]
  },
  {
   "cell_type": "markdown",
   "metadata": {},
   "source": [
    "If we only use a single index for a 2-dimensional array we will get the first row"
   ]
  },
  {
   "cell_type": "code",
   "execution_count": 22,
   "metadata": {},
   "outputs": [
    {
     "data": {
      "text/plain": [
       "array([0, 1, 2, 3])"
      ]
     },
     "execution_count": 22,
     "metadata": {},
     "output_type": "execute_result"
    }
   ],
   "source": [
    "array_2d[i]"
   ]
  },
  {
   "cell_type": "markdown",
   "metadata": {},
   "source": [
    "## 2. Slicing\n",
    "\n",
    "As with indexing, you can slice NumPy arrays in the same ways you can slice Python lists."
   ]
  },
  {
   "cell_type": "code",
   "execution_count": 19,
   "metadata": {},
   "outputs": [
    {
     "data": {
      "text/plain": [
       "array([0, 1, 2, 3, 4, 5, 6, 7, 8, 9])"
      ]
     },
     "execution_count": 19,
     "metadata": {},
     "output_type": "execute_result"
    }
   ],
   "source": [
    "array_1d"
   ]
  },
  {
   "cell_type": "code",
   "execution_count": 17,
   "metadata": {},
   "outputs": [
    {
     "data": {
      "text/plain": [
       "array([0, 1, 2])"
      ]
     },
     "execution_count": 17,
     "metadata": {},
     "output_type": "execute_result"
    }
   ],
   "source": [
    "array_1d[:3]"
   ]
  },
  {
   "cell_type": "code",
   "execution_count": 18,
   "metadata": {},
   "outputs": [
    {
     "data": {
      "text/plain": [
       "array([2, 3])"
      ]
     },
     "execution_count": 18,
     "metadata": {},
     "output_type": "execute_result"
    }
   ],
   "source": [
    "array_1d[2:4]"
   ]
  },
  {
   "cell_type": "code",
   "execution_count": 20,
   "metadata": {},
   "outputs": [
    {
     "data": {
      "text/plain": [
       "array([0, 1, 2, 3, 4, 5, 6, 7])"
      ]
     },
     "execution_count": 20,
     "metadata": {},
     "output_type": "execute_result"
    }
   ],
   "source": [
    "array_1d[:-2]"
   ]
  },
  {
   "cell_type": "code",
   "execution_count": 21,
   "metadata": {},
   "outputs": [
    {
     "data": {
      "text/plain": [
       "array([8, 9])"
      ]
     },
     "execution_count": 21,
     "metadata": {},
     "output_type": "execute_result"
    }
   ],
   "source": [
    "array_1d[-2:]"
   ]
  },
  {
   "cell_type": "markdown",
   "metadata": {},
   "source": [
    "For n-dimensional arrays we need to take into account the different axis"
   ]
  },
  {
   "cell_type": "code",
   "execution_count": 24,
   "metadata": {},
   "outputs": [
    {
     "data": {
      "text/plain": [
       "array([[ 0,  1,  2,  3],\n",
       "       [ 4,  5,  6,  7],\n",
       "       [ 8,  9, 10, 11],\n",
       "       [12, 13, 14, 15],\n",
       "       [16, 17, 18, 19]])"
      ]
     },
     "execution_count": 24,
     "metadata": {},
     "output_type": "execute_result"
    }
   ],
   "source": [
    "array_2d"
   ]
  },
  {
   "cell_type": "markdown",
   "metadata": {},
   "source": [
    "The `:` indicates NumPy that it needs to select all the elements in the axis. The `1:3` indicates NumPy that it needs to retrieve columns 1 and 2 (remember the end slice is not inclusive in Python)."
   ]
  },
  {
   "cell_type": "code",
   "execution_count": 25,
   "metadata": {},
   "outputs": [
    {
     "data": {
      "text/plain": [
       "array([[ 1,  2],\n",
       "       [ 5,  6],\n",
       "       [ 9, 10],\n",
       "       [13, 14],\n",
       "       [17, 18]])"
      ]
     },
     "execution_count": 25,
     "metadata": {},
     "output_type": "execute_result"
    }
   ],
   "source": [
    "array_2d[:, 1:3]"
   ]
  },
  {
   "cell_type": "markdown",
   "metadata": {},
   "source": [
    "We can also pass an iterable with the columns and rows we want to select"
   ]
  },
  {
   "cell_type": "code",
   "execution_count": 30,
   "metadata": {},
   "outputs": [
    {
     "data": {
      "text/plain": [
       "array([[ 1,  2],\n",
       "       [ 5,  6],\n",
       "       [ 9, 10],\n",
       "       [13, 14],\n",
       "       [17, 18]])"
      ]
     },
     "execution_count": 30,
     "metadata": {},
     "output_type": "execute_result"
    }
   ],
   "source": [
    "array_2d[:, [1, 2]]"
   ]
  },
  {
   "cell_type": "code",
   "execution_count": 31,
   "metadata": {},
   "outputs": [
    {
     "data": {
      "text/plain": [
       "array([ 1, 18])"
      ]
     },
     "execution_count": 31,
     "metadata": {},
     "output_type": "execute_result"
    }
   ],
   "source": [
    "array_2d[[0, 4], [1, 2]]"
   ]
  },
  {
   "cell_type": "code",
   "execution_count": 27,
   "metadata": {},
   "outputs": [
    {
     "data": {
      "text/plain": [
       "array([1, 2])"
      ]
     },
     "execution_count": 27,
     "metadata": {},
     "output_type": "execute_result"
    }
   ],
   "source": [
    "# only columns 1 and 2 from the first row\n",
    "array_2d[0, 1:3]"
   ]
  },
  {
   "cell_type": "markdown",
   "metadata": {},
   "source": [
    "## 3. Iteration\n",
    "\n",
    "Iteration also works as in Python"
   ]
  },
  {
   "cell_type": "code",
   "execution_count": 32,
   "metadata": {},
   "outputs": [
    {
     "name": "stdout",
     "output_type": "stream",
     "text": [
      "0\n",
      "1\n",
      "2\n",
      "3\n",
      "4\n",
      "5\n",
      "6\n",
      "7\n",
      "8\n",
      "9\n"
     ]
    }
   ],
   "source": [
    "for element in array_1d:\n",
    "    print(element)"
   ]
  },
  {
   "cell_type": "markdown",
   "metadata": {},
   "source": [
    "Iterating over multidimensional arrays is done with respect to the first axis:"
   ]
  },
  {
   "cell_type": "code",
   "execution_count": 33,
   "metadata": {},
   "outputs": [
    {
     "name": "stdout",
     "output_type": "stream",
     "text": [
      "[0 1 2 3]\n",
      "[4 5 6 7]\n",
      "[ 8  9 10 11]\n",
      "[12 13 14 15]\n",
      "[16 17 18 19]\n"
     ]
    }
   ],
   "source": [
    "for row in array_2d:\n",
    "    print(row)"
   ]
  },
  {
   "cell_type": "markdown",
   "metadata": {},
   "source": [
    "To iterate over the columns too we need to add another loop"
   ]
  },
  {
   "cell_type": "code",
   "execution_count": 35,
   "metadata": {},
   "outputs": [
    {
     "name": "stdout",
     "output_type": "stream",
     "text": [
      "0\n",
      "1\n",
      "2\n",
      "3\n",
      "4\n",
      "5\n",
      "6\n",
      "7\n",
      "8\n",
      "9\n",
      "10\n",
      "11\n",
      "12\n",
      "13\n",
      "14\n",
      "15\n",
      "16\n",
      "17\n",
      "18\n",
      "19\n"
     ]
    }
   ],
   "source": [
    "for row in array_2d:\n",
    "    for element in row:\n",
    "        print(element)"
   ]
  },
  {
   "cell_type": "markdown",
   "metadata": {},
   "source": [
    "or we can use the function `.flatten()` to transform our multidimensional array into a 1d array"
   ]
  },
  {
   "cell_type": "code",
   "execution_count": 36,
   "metadata": {},
   "outputs": [
    {
     "name": "stdout",
     "output_type": "stream",
     "text": [
      "0\n",
      "1\n",
      "2\n",
      "3\n",
      "4\n",
      "5\n",
      "6\n",
      "7\n",
      "8\n",
      "9\n",
      "10\n",
      "11\n",
      "12\n",
      "13\n",
      "14\n",
      "15\n",
      "16\n",
      "17\n",
      "18\n",
      "19\n"
     ]
    }
   ],
   "source": [
    "for element in array_2d.flatten():\n",
    "    print(element)"
   ]
  },
  {
   "cell_type": "markdown",
   "metadata": {},
   "source": [
    "Nesting loops for n-dimensional arrays can generate messy code"
   ]
  },
  {
   "cell_type": "code",
   "execution_count": 64,
   "metadata": {},
   "outputs": [],
   "source": [
    "array_4d = np.arange(16).reshape(2, 2, 2, 2)"
   ]
  },
  {
   "cell_type": "code",
   "execution_count": 67,
   "metadata": {},
   "outputs": [
    {
     "name": "stdout",
     "output_type": "stream",
     "text": [
      "0\n",
      "1\n",
      "2\n",
      "3\n",
      "4\n",
      "5\n",
      "6\n",
      "7\n",
      "8\n",
      "9\n",
      "10\n",
      "11\n",
      "12\n",
      "13\n",
      "14\n",
      "15\n"
     ]
    }
   ],
   "source": [
    "for x in array_4d:\n",
    "    for y in x:\n",
    "        for z in y:\n",
    "            for element in z:\n",
    "                print(element)"
   ]
  },
  {
   "cell_type": "markdown",
   "metadata": {},
   "source": [
    "NumPy provides `nditer` to deal with the iteration problem."
   ]
  },
  {
   "cell_type": "markdown",
   "metadata": {},
   "source": [
    "### 3.1. nditer\n",
    "\n",
    "The iterator object `nditer`, introduced in NumPy 1.6, provides many flexible ways to visit all the elements of one or more arrays in a systematic fashion."
   ]
  },
  {
   "cell_type": "code",
   "execution_count": 37,
   "metadata": {},
   "outputs": [
    {
     "name": "stdout",
     "output_type": "stream",
     "text": [
      "\u001b[0;31mInit signature:\u001b[0m \u001b[0mnp\u001b[0m\u001b[0;34m.\u001b[0m\u001b[0mnditer\u001b[0m\u001b[0;34m(\u001b[0m\u001b[0mself\u001b[0m\u001b[0;34m,\u001b[0m \u001b[0;34m/\u001b[0m\u001b[0;34m,\u001b[0m \u001b[0;34m*\u001b[0m\u001b[0margs\u001b[0m\u001b[0;34m,\u001b[0m \u001b[0;34m**\u001b[0m\u001b[0mkwargs\u001b[0m\u001b[0;34m)\u001b[0m\u001b[0;34m\u001b[0m\u001b[0;34m\u001b[0m\u001b[0m\n",
      "\u001b[0;31mDocstring:\u001b[0m     \n",
      "nditer(op, flags=None, op_flags=None, op_dtypes=None, order='K', casting='safe', op_axes=None, itershape=None, buffersize=0)\n",
      "\n",
      "Efficient multi-dimensional iterator object to iterate over arrays.\n",
      "To get started using this object, see the\n",
      ":ref:`introductory guide to array iteration <arrays.nditer>`.\n",
      "\n",
      "Parameters\n",
      "----------\n",
      "op : ndarray or sequence of array_like\n",
      "    The array(s) to iterate over.\n",
      "\n",
      "flags : sequence of str, optional\n",
      "      Flags to control the behavior of the iterator.\n",
      "\n",
      "      * ``buffered`` enables buffering when required.\n",
      "      * ``c_index`` causes a C-order index to be tracked.\n",
      "      * ``f_index`` causes a Fortran-order index to be tracked.\n",
      "      * ``multi_index`` causes a multi-index, or a tuple of indices\n",
      "        with one per iteration dimension, to be tracked.\n",
      "      * ``common_dtype`` causes all the operands to be converted to\n",
      "        a common data type, with copying or buffering as necessary.\n",
      "      * ``copy_if_overlap`` causes the iterator to determine if read\n",
      "        operands have overlap with write operands, and make temporary\n",
      "        copies as necessary to avoid overlap. False positives (needless\n",
      "        copying) are possible in some cases.\n",
      "      * ``delay_bufalloc`` delays allocation of the buffers until\n",
      "        a reset() call is made. Allows ``allocate`` operands to\n",
      "        be initialized before their values are copied into the buffers.\n",
      "      * ``external_loop`` causes the ``values`` given to be\n",
      "        one-dimensional arrays with multiple values instead of\n",
      "        zero-dimensional arrays.\n",
      "      * ``grow_inner`` allows the ``value`` array sizes to be made\n",
      "        larger than the buffer size when both ``buffered`` and\n",
      "        ``external_loop`` is used.\n",
      "      * ``ranged`` allows the iterator to be restricted to a sub-range\n",
      "        of the iterindex values.\n",
      "      * ``refs_ok`` enables iteration of reference types, such as\n",
      "        object arrays.\n",
      "      * ``reduce_ok`` enables iteration of ``readwrite`` operands\n",
      "        which are broadcasted, also known as reduction operands.\n",
      "      * ``zerosize_ok`` allows `itersize` to be zero.\n",
      "op_flags : list of list of str, optional\n",
      "      This is a list of flags for each operand. At minimum, one of\n",
      "      ``readonly``, ``readwrite``, or ``writeonly`` must be specified.\n",
      "\n",
      "      * ``readonly`` indicates the operand will only be read from.\n",
      "      * ``readwrite`` indicates the operand will be read from and written to.\n",
      "      * ``writeonly`` indicates the operand will only be written to.\n",
      "      * ``no_broadcast`` prevents the operand from being broadcasted.\n",
      "      * ``contig`` forces the operand data to be contiguous.\n",
      "      * ``aligned`` forces the operand data to be aligned.\n",
      "      * ``nbo`` forces the operand data to be in native byte order.\n",
      "      * ``copy`` allows a temporary read-only copy if required.\n",
      "      * ``updateifcopy`` allows a temporary read-write copy if required.\n",
      "      * ``allocate`` causes the array to be allocated if it is None\n",
      "        in the ``op`` parameter.\n",
      "      * ``no_subtype`` prevents an ``allocate`` operand from using a subtype.\n",
      "      * ``arraymask`` indicates that this operand is the mask to use\n",
      "        for selecting elements when writing to operands with the\n",
      "        'writemasked' flag set. The iterator does not enforce this,\n",
      "        but when writing from a buffer back to the array, it only\n",
      "        copies those elements indicated by this mask.\n",
      "      * ``writemasked`` indicates that only elements where the chosen\n",
      "        ``arraymask`` operand is True will be written to.\n",
      "      * ``overlap_assume_elementwise`` can be used to mark operands that are\n",
      "        accessed only in the iterator order, to allow less conservative\n",
      "        copying when ``copy_if_overlap`` is present.\n",
      "op_dtypes : dtype or tuple of dtype(s), optional\n",
      "    The required data type(s) of the operands. If copying or buffering\n",
      "    is enabled, the data will be converted to/from their original types.\n",
      "order : {'C', 'F', 'A', 'K'}, optional\n",
      "    Controls the iteration order. 'C' means C order, 'F' means\n",
      "    Fortran order, 'A' means 'F' order if all the arrays are Fortran\n",
      "    contiguous, 'C' order otherwise, and 'K' means as close to the\n",
      "    order the array elements appear in memory as possible. This also\n",
      "    affects the element memory order of ``allocate`` operands, as they\n",
      "    are allocated to be compatible with iteration order.\n",
      "    Default is 'K'.\n",
      "casting : {'no', 'equiv', 'safe', 'same_kind', 'unsafe'}, optional\n",
      "    Controls what kind of data casting may occur when making a copy\n",
      "    or buffering.  Setting this to 'unsafe' is not recommended,\n",
      "    as it can adversely affect accumulations.\n",
      "\n",
      "    * 'no' means the data types should not be cast at all.\n",
      "    * 'equiv' means only byte-order changes are allowed.\n",
      "    * 'safe' means only casts which can preserve values are allowed.\n",
      "    * 'same_kind' means only safe casts or casts within a kind,\n",
      "      like float64 to float32, are allowed.\n",
      "    * 'unsafe' means any data conversions may be done.\n",
      "op_axes : list of list of ints, optional\n",
      "    If provided, is a list of ints or None for each operands.\n",
      "    The list of axes for an operand is a mapping from the dimensions\n",
      "    of the iterator to the dimensions of the operand. A value of\n",
      "    -1 can be placed for entries, causing that dimension to be\n",
      "    treated as `newaxis`.\n",
      "itershape : tuple of ints, optional\n",
      "    The desired shape of the iterator. This allows ``allocate`` operands\n",
      "    with a dimension mapped by op_axes not corresponding to a dimension\n",
      "    of a different operand to get a value not equal to 1 for that\n",
      "    dimension.\n",
      "buffersize : int, optional\n",
      "    When buffering is enabled, controls the size of the temporary\n",
      "    buffers. Set to 0 for the default value.\n",
      "\n",
      "Attributes\n",
      "----------\n",
      "dtypes : tuple of dtype(s)\n",
      "    The data types of the values provided in `value`. This may be\n",
      "    different from the operand data types if buffering is enabled.\n",
      "    Valid only before the iterator is closed.\n",
      "finished : bool\n",
      "    Whether the iteration over the operands is finished or not.\n",
      "has_delayed_bufalloc : bool\n",
      "    If True, the iterator was created with the ``delay_bufalloc`` flag,\n",
      "    and no reset() function was called on it yet.\n",
      "has_index : bool\n",
      "    If True, the iterator was created with either the ``c_index`` or\n",
      "    the ``f_index`` flag, and the property `index` can be used to\n",
      "    retrieve it.\n",
      "has_multi_index : bool\n",
      "    If True, the iterator was created with the ``multi_index`` flag,\n",
      "    and the property `multi_index` can be used to retrieve it.\n",
      "index\n",
      "    When the ``c_index`` or ``f_index`` flag was used, this property\n",
      "    provides access to the index. Raises a ValueError if accessed\n",
      "    and ``has_index`` is False.\n",
      "iterationneedsapi : bool\n",
      "    Whether iteration requires access to the Python API, for example\n",
      "    if one of the operands is an object array.\n",
      "iterindex : int\n",
      "    An index which matches the order of iteration.\n",
      "itersize : int\n",
      "    Size of the iterator.\n",
      "itviews\n",
      "    Structured view(s) of `operands` in memory, matching the reordered\n",
      "    and optimized iterator access pattern. Valid only before the iterator\n",
      "    is closed.\n",
      "multi_index\n",
      "    When the ``multi_index`` flag was used, this property\n",
      "    provides access to the index. Raises a ValueError if accessed\n",
      "    accessed and ``has_multi_index`` is False.\n",
      "ndim : int\n",
      "    The dimensions of the iterator.\n",
      "nop : int\n",
      "    The number of iterator operands.\n",
      "operands : tuple of operand(s)\n",
      "    The array(s) to be iterated over. Valid only before the iterator is\n",
      "    closed.\n",
      "shape : tuple of ints\n",
      "    Shape tuple, the shape of the iterator.\n",
      "value\n",
      "    Value of ``operands`` at current iteration. Normally, this is a\n",
      "    tuple of array scalars, but if the flag ``external_loop`` is used,\n",
      "    it is a tuple of one dimensional arrays.\n",
      "\n",
      "Notes\n",
      "-----\n",
      "`nditer` supersedes `flatiter`.  The iterator implementation behind\n",
      "`nditer` is also exposed by the NumPy C API.\n",
      "\n",
      "The Python exposure supplies two iteration interfaces, one which follows\n",
      "the Python iterator protocol, and another which mirrors the C-style\n",
      "do-while pattern.  The native Python approach is better in most cases, but\n",
      "if you need the coordinates or index of an iterator, use the C-style pattern.\n",
      "\n",
      "Examples\n",
      "--------\n",
      "Here is how we might write an ``iter_add`` function, using the\n",
      "Python iterator protocol:\n",
      "\n",
      ">>> def iter_add_py(x, y, out=None):\n",
      "...     addop = np.add\n",
      "...     it = np.nditer([x, y, out], [],\n",
      "...                 [['readonly'], ['readonly'], ['writeonly','allocate']])\n",
      "...     with it:\n",
      "...         for (a, b, c) in it:\n",
      "...             addop(a, b, out=c)\n",
      "...         return it.operands[2]\n",
      "\n",
      "Here is the same function, but following the C-style pattern:\n",
      "\n",
      ">>> def iter_add(x, y, out=None):\n",
      "...    addop = np.add\n",
      "...    it = np.nditer([x, y, out], [],\n",
      "...                [['readonly'], ['readonly'], ['writeonly','allocate']])\n",
      "...    with it:\n",
      "...        while not it.finished:\n",
      "...            addop(it[0], it[1], out=it[2])\n",
      "...            it.iternext()\n",
      "...        return it.operands[2]\n",
      "\n",
      "Here is an example outer product function:\n",
      "\n",
      ">>> def outer_it(x, y, out=None):\n",
      "...     mulop = np.multiply\n",
      "...     it = np.nditer([x, y, out], ['external_loop'],\n",
      "...             [['readonly'], ['readonly'], ['writeonly', 'allocate']],\n",
      "...             op_axes=[list(range(x.ndim)) + [-1] * y.ndim,\n",
      "...                      [-1] * x.ndim + list(range(y.ndim)),\n",
      "...                      None])\n",
      "...     with it:\n",
      "...         for (a, b, c) in it:\n",
      "...             mulop(a, b, out=c)\n",
      "...         return it.operands[2]\n",
      "\n",
      ">>> a = np.arange(2)+1\n",
      ">>> b = np.arange(3)+1\n",
      ">>> outer_it(a,b)\n",
      "array([[1, 2, 3],\n",
      "       [2, 4, 6]])\n",
      "\n",
      "Here is an example function which operates like a \"lambda\" ufunc:\n",
      "\n",
      ">>> def luf(lamdaexpr, *args, **kwargs):\n",
      "...    '''luf(lambdaexpr, op1, ..., opn, out=None, order='K', casting='safe', buffersize=0)'''\n",
      "...    nargs = len(args)\n",
      "...    op = (kwargs.get('out',None),) + args\n",
      "...    it = np.nditer(op, ['buffered','external_loop'],\n",
      "...            [['writeonly','allocate','no_broadcast']] +\n",
      "...                            [['readonly','nbo','aligned']]*nargs,\n",
      "...            order=kwargs.get('order','K'),\n",
      "...            casting=kwargs.get('casting','safe'),\n",
      "...            buffersize=kwargs.get('buffersize',0))\n",
      "...    while not it.finished:\n",
      "...        it[0] = lamdaexpr(*it[1:])\n",
      "...        it.iternext()\n",
      "...    return it.operands[0]\n",
      "\n",
      ">>> a = np.arange(5)\n",
      ">>> b = np.ones(5)\n",
      ">>> luf(lambda i,j:i*i + j/2, a, b)\n",
      "array([  0.5,   1.5,   4.5,   9.5,  16.5])\n",
      "\n",
      "If operand flags ``\"writeonly\"`` or ``\"readwrite\"`` are used the\n",
      "operands may be views into the original data with the\n",
      "`WRITEBACKIFCOPY` flag. In this case `nditer` must be used as a\n",
      "context manager or the `nditer.close` method must be called before\n",
      "using the result. The temporary data will be written back to the\n",
      "original data when the `__exit__` function is called but not before:\n",
      "\n",
      ">>> a = np.arange(6, dtype='i4')[::-2]\n",
      ">>> with np.nditer(a, [],\n",
      "...        [['writeonly', 'updateifcopy']],\n",
      "...        casting='unsafe',\n",
      "...        op_dtypes=[np.dtype('f4')]) as i:\n",
      "...    x = i.operands[0]\n",
      "...    x[:] = [-1, -2, -3]\n",
      "...    # a still unchanged here\n",
      ">>> a, x\n",
      "(array([-1, -2, -3], dtype=int32), array([-1., -2., -3.], dtype=float32))\n",
      "\n",
      "It is important to note that once the iterator is exited, dangling\n",
      "references (like `x` in the example) may or may not share data with\n",
      "the original data `a`. If writeback semantics were active, i.e. if\n",
      "`x.base.flags.writebackifcopy` is `True`, then exiting the iterator\n",
      "will sever the connection between `x` and `a`, writing to `x` will\n",
      "no longer write to `a`. If writeback semantics are not active, then\n",
      "`x.data` will still point at some part of `a.data`, and writing to\n",
      "one will affect the other.\n",
      "\n",
      "Context management and the `close` method appeared in version 1.15.0.\n",
      "\u001b[0;31mFile:\u001b[0m           ~/miniconda3/envs/data/lib/python3.11/site-packages/numpy/__init__.py\n",
      "\u001b[0;31mType:\u001b[0m           type\n",
      "\u001b[0;31mSubclasses:\u001b[0m     "
     ]
    }
   ],
   "source": [
    "np.nditer?"
   ]
  },
  {
   "cell_type": "markdown",
   "metadata": {},
   "source": [
    "Basic example: iterate over all elements of the array"
   ]
  },
  {
   "cell_type": "code",
   "execution_count": 47,
   "metadata": {},
   "outputs": [
    {
     "name": "stdout",
     "output_type": "stream",
     "text": [
      "0\n",
      "1\n",
      "2\n",
      "3\n",
      "4\n",
      "5\n",
      "6\n",
      "7\n",
      "8\n",
      "9\n",
      "10\n",
      "11\n",
      "12\n",
      "13\n",
      "14\n",
      "15\n",
      "16\n",
      "17\n",
      "18\n",
      "19\n"
     ]
    }
   ],
   "source": [
    "for element in np.nditer(array_2d, order='C'):  # by default, order is 'C' (C language), row-major\n",
    "    print(element)"
   ]
  },
  {
   "cell_type": "markdown",
   "metadata": {},
   "source": [
    "With `nditer` we can change the [iteration order of the array](https://en.wikipedia.org/wiki/Row-_and_column-major_order)."
   ]
  },
  {
   "cell_type": "code",
   "execution_count": 48,
   "metadata": {},
   "outputs": [
    {
     "name": "stdout",
     "output_type": "stream",
     "text": [
      "0\n",
      "4\n",
      "8\n",
      "12\n",
      "16\n",
      "1\n",
      "5\n",
      "9\n",
      "13\n",
      "17\n",
      "2\n",
      "6\n",
      "10\n",
      "14\n",
      "18\n",
      "3\n",
      "7\n",
      "11\n",
      "15\n",
      "19\n"
     ]
    }
   ],
   "source": [
    "for element in np.nditer(array_2d, order='F'):  # we can change order to 'F' (Fortran language), column-major\n",
    "    print(element)"
   ]
  },
  {
   "cell_type": "markdown",
   "metadata": {},
   "source": [
    "`F` order is equivalent to iterating over the transposed array with `C` ordering."
   ]
  },
  {
   "cell_type": "code",
   "execution_count": 51,
   "metadata": {},
   "outputs": [
    {
     "name": "stdout",
     "output_type": "stream",
     "text": [
      "0\n",
      "4\n",
      "8\n",
      "12\n",
      "16\n",
      "1\n",
      "5\n",
      "9\n",
      "13\n",
      "17\n",
      "2\n",
      "6\n",
      "10\n",
      "14\n",
      "18\n",
      "3\n",
      "7\n",
      "11\n",
      "15\n",
      "19\n"
     ]
    }
   ],
   "source": [
    "for element in np.nditer(array_2d.T, order='C'):\n",
    "    print(element)"
   ]
  },
  {
   "cell_type": "markdown",
   "metadata": {},
   "source": [
    "By default, order is `C`, and that is why the flag `external_loop` is able to get the whole array as a single chunk"
   ]
  },
  {
   "cell_type": "code",
   "execution_count": 57,
   "metadata": {},
   "outputs": [
    {
     "name": "stdout",
     "output_type": "stream",
     "text": [
      "[ 0  1  2  3  4  5  6  7  8  9 10 11 12 13 14 15 16 17 18 19]\n"
     ]
    }
   ],
   "source": [
    "for x in np.nditer(array_2d, flags=['external_loop'], order='C'):\n",
    "    print(x)"
   ]
  },
  {
   "cell_type": "markdown",
   "metadata": {},
   "source": [
    "If we try to iterate with order `F` we will get a chunk for each column"
   ]
  },
  {
   "cell_type": "code",
   "execution_count": 60,
   "metadata": {},
   "outputs": [
    {
     "name": "stdout",
     "output_type": "stream",
     "text": [
      "[ 0  4  8 12 16]\n",
      "[ 1  5  9 13 17]\n",
      "[ 2  6 10 14 18]\n",
      "[ 3  7 11 15 19]\n"
     ]
    }
   ],
   "source": [
    "for x in np.nditer(array_2d, flags=['external_loop'], order='F'):\n",
    "    print(x)"
   ]
  },
  {
   "cell_type": "markdown",
   "metadata": {},
   "source": [
    "Test this behaviour with an array of order F, we expect a single chunk when iterating with order `F`."
   ]
  },
  {
   "cell_type": "code",
   "execution_count": 59,
   "metadata": {},
   "outputs": [
    {
     "name": "stdout",
     "output_type": "stream",
     "text": [
      "[ 0  4  8 12 16  1  5  9 13 17  2  6 10 14 18  3  7 11 15 19]\n"
     ]
    }
   ],
   "source": [
    "array_2d_order_F = np.array(array_2d, order='F')\n",
    "for x in np.nditer(array_2d_order_F, flags=['external_loop'], order='F'):\n",
    "    print(x)"
   ]
  },
  {
   "cell_type": "code",
   "execution_count": 61,
   "metadata": {},
   "outputs": [
    {
     "name": "stdout",
     "output_type": "stream",
     "text": [
      "[0 1 2 3]\n",
      "[4 5 6 7]\n",
      "[ 8  9 10 11]\n",
      "[12 13 14 15]\n",
      "[16 17 18 19]\n"
     ]
    }
   ],
   "source": [
    "for x in np.nditer(array_2d_order_F, flags=['external_loop'], order='C'):\n",
    "    print(x)"
   ]
  },
  {
   "cell_type": "markdown",
   "metadata": {},
   "source": [
    "However, we can add a flag to buffer the elements such that the interpreter is able to see bigger chunks:"
   ]
  },
  {
   "cell_type": "code",
   "execution_count": 101,
   "metadata": {},
   "outputs": [
    {
     "name": "stdout",
     "output_type": "stream",
     "text": [
      "[ 0  1  2  3  4  5  6  7  8  9 10 11 12 13 14 15 16 17 18 19]\n"
     ]
    }
   ],
   "source": [
    "for x in np.nditer(array_2d_order_F, flags=['buffered', 'external_loop'], order='C'):\n",
    "    print(x)"
   ]
  },
  {
   "cell_type": "markdown",
   "metadata": {},
   "source": [
    "Lastly, we can iterate over a sequence of arrays, as long as their shape is compatible"
   ]
  },
  {
   "cell_type": "code",
   "execution_count": 104,
   "metadata": {},
   "outputs": [
    {
     "name": "stdout",
     "output_type": "stream",
     "text": [
      "0 0\n",
      "1 0\n",
      "2 0\n",
      "3 0\n",
      "4 1\n",
      "5 1\n",
      "6 1\n",
      "7 1\n",
      "8 2\n",
      "9 2\n",
      "10 2\n",
      "11 2\n",
      "12 3\n",
      "13 3\n",
      "14 3\n",
      "15 3\n",
      "16 4\n",
      "17 4\n",
      "18 4\n",
      "19 4\n"
     ]
    }
   ],
   "source": [
    "for x, y in np.nditer([array_2d, np.arange(5).reshape(-1,1)]):\n",
    "    print(x, y)"
   ]
  },
  {
   "cell_type": "markdown",
   "metadata": {},
   "source": [
    "Notice how the array with less dimensions is broadcast to match the shape. With incompatible shapes this would not work"
   ]
  },
  {
   "cell_type": "code",
   "execution_count": 105,
   "metadata": {},
   "outputs": [
    {
     "ename": "ValueError",
     "evalue": "operands could not be broadcast together with shapes (5,4) (4,1) ",
     "output_type": "error",
     "traceback": [
      "\u001b[0;31m---------------------------------------------------------------------------\u001b[0m",
      "\u001b[0;31mValueError\u001b[0m                                Traceback (most recent call last)",
      "Cell \u001b[0;32mIn[105], line 1\u001b[0m\n\u001b[0;32m----> 1\u001b[0m \u001b[38;5;28;01mfor\u001b[39;00m x, y \u001b[38;5;129;01min\u001b[39;00m \u001b[43mnp\u001b[49m\u001b[38;5;241;43m.\u001b[39;49m\u001b[43mnditer\u001b[49m\u001b[43m(\u001b[49m\u001b[43m[\u001b[49m\u001b[43marray_2d\u001b[49m\u001b[43m,\u001b[49m\u001b[43m \u001b[49m\u001b[43mnp\u001b[49m\u001b[38;5;241;43m.\u001b[39;49m\u001b[43marange\u001b[49m\u001b[43m(\u001b[49m\u001b[38;5;241;43m4\u001b[39;49m\u001b[43m)\u001b[49m\u001b[38;5;241;43m.\u001b[39;49m\u001b[43mreshape\u001b[49m\u001b[43m(\u001b[49m\u001b[38;5;241;43m-\u001b[39;49m\u001b[38;5;241;43m1\u001b[39;49m\u001b[43m,\u001b[49m\u001b[38;5;241;43m1\u001b[39;49m\u001b[43m)\u001b[49m\u001b[43m]\u001b[49m\u001b[43m)\u001b[49m:\n\u001b[1;32m      2\u001b[0m     \u001b[38;5;28mprint\u001b[39m(x, y)\n",
      "\u001b[0;31mValueError\u001b[0m: operands could not be broadcast together with shapes (5,4) (4,1) "
     ]
    }
   ],
   "source": [
    "for x, y in np.nditer([array_2d, np.arange(4).reshape(-1,1)]):\n",
    "    print(x, y)"
   ]
  },
  {
   "cell_type": "markdown",
   "metadata": {},
   "source": [
    "Many more features explained in [the documentation](https://numpy.org/doc/2.1/reference/arrays.nditer.html)."
   ]
  },
  {
   "cell_type": "markdown",
   "metadata": {},
   "source": [
    "## 4. Modifying elements\n",
    "\n",
    "Operations that select a part of the array can be used to set elements too:"
   ]
  },
  {
   "cell_type": "code",
   "execution_count": 84,
   "metadata": {},
   "outputs": [],
   "source": [
    "array = np.arange(9).reshape(3,3)"
   ]
  },
  {
   "cell_type": "markdown",
   "metadata": {},
   "source": [
    "Modify element in row `0` and column `j`"
   ]
  },
  {
   "cell_type": "code",
   "execution_count": 90,
   "metadata": {},
   "outputs": [
    {
     "data": {
      "text/plain": [
       "array([[   31, -2000,   200],\n",
       "       [  300, -2000,   500],\n",
       "       [  900,   900,   900]])"
      ]
     },
     "execution_count": 90,
     "metadata": {},
     "output_type": "execute_result"
    }
   ],
   "source": [
    "i, j = 0, 0\n",
    "\n",
    "array[i, j] = 31\n",
    "array"
   ]
  },
  {
   "cell_type": "markdown",
   "metadata": {},
   "source": [
    "We can set a particular slice of the array"
   ]
  },
  {
   "cell_type": "code",
   "execution_count": 91,
   "metadata": {},
   "outputs": [
    {
     "data": {
      "text/plain": [
       "array([[ 31, -20, 200],\n",
       "       [300, -20, 500],\n",
       "       [900, -20, 900]])"
      ]
     },
     "execution_count": 91,
     "metadata": {},
     "output_type": "execute_result"
    }
   ],
   "source": [
    "array[:, 1] = -20\n",
    "array"
   ]
  },
  {
   "cell_type": "markdown",
   "metadata": {},
   "source": [
    "But the value needs to be broadcastable or it needs to be a sequence of the same shape than the sliced sequence"
   ]
  },
  {
   "cell_type": "code",
   "execution_count": 92,
   "metadata": {},
   "outputs": [
    {
     "ename": "ValueError",
     "evalue": "could not broadcast input array from shape (2,) into shape (3,)",
     "output_type": "error",
     "traceback": [
      "\u001b[0;31m---------------------------------------------------------------------------\u001b[0m",
      "\u001b[0;31mValueError\u001b[0m                                Traceback (most recent call last)",
      "Cell \u001b[0;32mIn[92], line 1\u001b[0m\n\u001b[0;32m----> 1\u001b[0m \u001b[43marray\u001b[49m\u001b[43m[\u001b[49m\u001b[38;5;241;43m-\u001b[39;49m\u001b[38;5;241;43m1\u001b[39;49m\u001b[43m]\u001b[49m \u001b[38;5;241m=\u001b[39m np\u001b[38;5;241m.\u001b[39marray([\u001b[38;5;241m0\u001b[39m, \u001b[38;5;241m1\u001b[39m])\n",
      "\u001b[0;31mValueError\u001b[0m: could not broadcast input array from shape (2,) into shape (3,)"
     ]
    }
   ],
   "source": [
    "array[-1] = np.array([0, 1])"
   ]
  },
  {
   "cell_type": "markdown",
   "metadata": {},
   "source": [
    "The exception dissapears when we set a matching shape"
   ]
  },
  {
   "cell_type": "code",
   "execution_count": 96,
   "metadata": {},
   "outputs": [
    {
     "data": {
      "text/plain": [
       "array([[ 3100, -2000, 20000],\n",
       "       [30000, -2000, 50000],\n",
       "       [    0,     1,    -1]])"
      ]
     },
     "execution_count": 96,
     "metadata": {},
     "output_type": "execute_result"
    }
   ],
   "source": [
    "array[-1] = np.array([0, 1, -1])\n",
    "array"
   ]
  },
  {
   "cell_type": "code",
   "execution_count": 93,
   "metadata": {},
   "outputs": [
    {
     "data": {
      "text/plain": [
       "array([[ 31, -20, 200],\n",
       "       [300, -20, 500],\n",
       "       [  9,   9,   9]])"
      ]
     },
     "execution_count": 93,
     "metadata": {},
     "output_type": "execute_result"
    }
   ],
   "source": [
    "array[-1] = [9] * 3\n",
    "array"
   ]
  },
  {
   "cell_type": "markdown",
   "metadata": {},
   "source": [
    "`nditer` can also be used by setting `readwrite` as an argument of `op_flag`"
   ]
  },
  {
   "cell_type": "code",
   "execution_count": 94,
   "metadata": {},
   "outputs": [
    {
     "data": {
      "text/plain": [
       "array([[ 3100, -2000, 20000],\n",
       "       [30000, -2000, 50000],\n",
       "       [  900,   900,   900]])"
      ]
     },
     "execution_count": 94,
     "metadata": {},
     "output_type": "execute_result"
    }
   ],
   "source": [
    "for element in np.nditer(array, op_flags=['readwrite']):\n",
    "    element[...] = element * 100\n",
    "\n",
    "array"
   ]
  },
  {
   "cell_type": "markdown",
   "metadata": {},
   "source": [
    "----"
   ]
  }
 ],
 "metadata": {
  "kernelspec": {
   "display_name": "data",
   "language": "python",
   "name": "python3"
  },
  "language_info": {
   "codemirror_mode": {
    "name": "ipython",
    "version": 3
   },
   "file_extension": ".py",
   "mimetype": "text/x-python",
   "name": "python",
   "nbconvert_exporter": "python",
   "pygments_lexer": "ipython3",
   "version": "3.11.9"
  }
 },
 "nbformat": 4,
 "nbformat_minor": 2
}
